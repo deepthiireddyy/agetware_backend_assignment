{
  "nbformat": 4,
  "nbformat_minor": 0,
  "metadata": {
    "colab": {
      "provenance": []
    },
    "kernelspec": {
      "name": "python3",
      "display_name": "Python 3"
    },
    "language_info": {
      "name": "python"
    }
  },
  "cells": [
    {
      "cell_type": "markdown",
      "source": [
        "**Problem: Caesar Cipher encoding and decoding**\n",
        "\n",
        "In cryptography, a Caesar cipher, also known as Caesar's cipher, the shift cipher, Caesar's code, or Caesar shift, is one of the simplest and most widely known encryption techniques. It is a type of substitution cipher in which each letter in the plaintext is replaced by a letter some fixed number of positions down the alphabet.\n",
        "\n",
        "For example, with a left shift of 3, D would be replaced by A, E would become B, and so on. The method is named after Julius Caesar, who used it in his private correspondence.\n",
        "\n",
        "\n",
        "Write code that implements encoding and decoding of a message.\n",
        "The parameters for the methods would be the message to be encoded / decoded and the length of the shift."
      ],
      "metadata": {
        "id": "VcFuOKuwQ-p1"
      }
    },
    {
      "cell_type": "code",
      "execution_count": 5,
      "metadata": {
        "colab": {
          "base_uri": "https://localhost:8080/"
        },
        "id": "FOAvsmQBHDXr",
        "outputId": "d7b43781-d33f-4c97-b602-46136646dae0"
      },
      "outputs": [
        {
          "output_type": "stream",
          "name": "stdout",
          "text": [
            "Enter your message: Deepthi Reddy\n",
            "Enter shift value (number): 5\n",
            "Do you want to 'encode' or 'decode'?: encode\n",
            "\n",
            "Result (encoded message): Ijjuymn Wjiid\n"
          ]
        }
      ],
      "source": [
        "#PROBLEM1: Caesar Cipher encoding and decoding\n",
        "\n",
        "def caesar_cipher(message, shift, mode='encode'):\n",
        "    result = []\n",
        "    shift = shift % 26\n",
        "    if mode == 'decode':\n",
        "        shift = -shift\n",
        "    for char in message:\n",
        "        if char.isalpha():\n",
        "            base = ord('A') if char.isupper() else ord('a')\n",
        "            new_char = chr((ord(char) - base + shift) % 26 + base)\n",
        "            result.append(new_char)\n",
        "        else:\n",
        "            result.append(char)\n",
        "    return ''.join(result)\n",
        "\n",
        "message = input(\"Enter your message: \")\n",
        "shift = int(input(\"Enter shift value (number): \"))\n",
        "mode = input(\"Do you want to 'encode' or 'decode'?: \").lower()\n",
        "\n",
        "output = caesar_cipher(message, shift, mode)\n",
        "\n",
        "print(\"\\nResult (\" + mode + \"d message): \" + output)"
      ]
    },
    {
      "cell_type": "markdown",
      "source": [
        "**Problem: Convert number into a comma separated Indian currency format**\n",
        "\n",
        "In Indian numbering system the terms used are different from what is used in the western numbering system.\n",
        "\n",
        "Terms like Lakh to represent one hundred thousand and Crore to represent 10 Million.\n",
        "\n",
        "Write code that takes as input a floating point number and returns an indian number string representation with commas separating the digits.\n",
        "\n",
        "Eg: 123456.7891 should return 1,23,456.7891"
      ],
      "metadata": {
        "id": "_2O8IBTiRK3-"
      }
    },
    {
      "cell_type": "code",
      "source": [
        "#PROBLEM2: Convert number into a comma separated Indian currency format\n",
        "\n",
        "def format_indian_currency(number):\n",
        "    parts = str(number).split('.')\n",
        "    integer_part = parts[0]\n",
        "    decimal_part = '.' + parts[1] if len(parts) > 1 else ''\n",
        "\n",
        "    if len(integer_part) <= 3:\n",
        "        return integer_part + decimal_part\n",
        "\n",
        "    last_three = integer_part[-3:]\n",
        "    rest = integer_part[:-3]\n",
        "\n",
        "    rest_with_commas = ''\n",
        "    while len(rest) > 2:\n",
        "        rest_with_commas = ',' + rest[-2:] + rest_with_commas\n",
        "        rest = rest[:-2]\n",
        "\n",
        "    if rest:\n",
        "        rest_with_commas = rest + rest_with_commas\n",
        "\n",
        "    return rest_with_commas + ',' + last_three + decimal_part\n",
        "\n",
        "number = float(input(\"Enter a floating-point number: \"))\n",
        "formatted = format_indian_currency(number)\n",
        "\n",
        "print(\"Indian Currency Format:\", formatted)"
      ],
      "metadata": {
        "colab": {
          "base_uri": "https://localhost:8080/"
        },
        "id": "SPdw85VmJPXb",
        "outputId": "dbf5d5ad-aa75-490d-d73e-807802dfc4a0"
      },
      "execution_count": 3,
      "outputs": [
        {
          "output_type": "stream",
          "name": "stdout",
          "text": [
            "Enter a floating-point number: 12569.633\n",
            "Indian Currency Format: 12,569.633\n"
          ]
        }
      ]
    },
    {
      "cell_type": "markdown",
      "source": [
        "**Problem: Combining two lists**\n",
        "\n",
        "Consider a list of elements within a line having position and values in the following format:\n",
        "\n",
        "\n",
        "    [{\n",
        "\n",
        "        \"positions\": [left_position, right_position],\n",
        "        \"values\": [value1, value2, ...]\n",
        "    },\n",
        "    ...]\n",
        "\n",
        "The left_position and right_position represents the position of the element in the line.\n",
        "\n",
        "Write code to combine two lists of the above format sorted by the left position.\n",
        "\n",
        "Values of the elements are to be combined if more than half of an element is contained within the other and positions of the element that appears first can be considered."
      ],
      "metadata": {
        "id": "GKwIOIrHRSxx"
      }
    },
    {
      "cell_type": "code",
      "source": [
        "#PROBLEM3: Combining two lists\n",
        "\n",
        "def segment_length(segment):\n",
        "    left, right = segment[\"positions\"]\n",
        "    return right - left\n",
        "\n",
        "def overlap_amount(seg1, seg2):\n",
        "    left1, right1 = seg1[\"positions\"]\n",
        "    left2, right2 = seg2[\"positions\"]\n",
        "    overlap_left = max(left1, left2)\n",
        "    overlap_right = min(right1, right2)\n",
        "    return max(0, overlap_right - overlap_left)\n",
        "\n",
        "def is_more_than_half_contained(inner, outer):\n",
        "    overlap = overlap_amount(inner, outer)\n",
        "    return overlap > segment_length(inner) / 2\n",
        "\n",
        "def merge_segments(seg1, seg2):\n",
        "    return {\n",
        "        \"positions\": seg1[\"positions\"],\n",
        "        \"values\": seg1[\"values\"] + seg2[\"values\"]\n",
        "    }\n",
        "\n",
        "def combine_lists(list1, list2):\n",
        "    combined = []\n",
        "    i, j = 0, 0\n",
        "\n",
        "    while i < len(list1) and j < len(list2):\n",
        "        seg1 = list1[i]\n",
        "        seg2 = list2[j]\n",
        "\n",
        "        if is_more_than_half_contained(seg2, seg1):\n",
        "            combined.append(merge_segments(seg1, seg2))\n",
        "            i += 1\n",
        "            j += 1\n",
        "        elif is_more_than_half_contained(seg1, seg2):\n",
        "            combined.append(merge_segments(seg2, seg1))\n",
        "            i += 1\n",
        "            j += 1\n",
        "        elif seg1[\"positions\"][0] < seg2[\"positions\"][0]:\n",
        "            combined.append(seg1)\n",
        "            i += 1\n",
        "        else:\n",
        "            combined.append(seg2)\n",
        "            j += 1\n",
        "\n",
        "    while i < len(list1):\n",
        "        combined.append(list1[i])\n",
        "        i += 1\n",
        "    while j < len(list2):\n",
        "        combined.append(list2[j])\n",
        "        j += 1\n",
        "\n",
        "    return combined\n",
        "\n",
        "\n",
        "list1 = [\n",
        "    {\"positions\": [10, 30], \"values\": [\"a\"]},\n",
        "    {\"positions\": [40, 60], \"values\": [\"b\"]}\n",
        "]\n",
        "\n",
        "list2 = [\n",
        "    {\"positions\": [15, 25], \"values\": [\"x\"]},\n",
        "    {\"positions\": [70, 90], \"values\": [\"y\"]}\n",
        "]\n",
        "\n",
        "result = combine_lists(list1, list2)\n",
        "\n",
        "import pprint\n",
        "pprint.pprint(result)"
      ],
      "metadata": {
        "colab": {
          "base_uri": "https://localhost:8080/"
        },
        "id": "2l96_4uaJ51d",
        "outputId": "89b2d177-60eb-456b-cc38-058b57a9b8a2"
      },
      "execution_count": 7,
      "outputs": [
        {
          "output_type": "stream",
          "name": "stdout",
          "text": [
            "[{'positions': [10, 30], 'values': ['a', 'x']},\n",
            " {'positions': [40, 60], 'values': ['b']},\n",
            " {'positions': [70, 90], 'values': ['y']}]\n"
          ]
        }
      ]
    },
    {
      "cell_type": "markdown",
      "source": [
        "**Problem: Minimizing Loss**\n",
        "\n",
        "Rajeev has a chart of distinct projected prices for a house over the next several years. He must buy the house in one year and sell it in another, and he must do so at a loss. He wants to minimize her financial loss.\n",
        "Eg:\n",
        "price = [20, 15, 7, 2, 13]\n",
        "\n",
        "His minimum loss is incurred by purchasing in year 2 at price[1] and selling in year 5 at price[4]\n",
        "Write code that takes as input the number of years and prices for those years and outputs the year to buy and sell in with the loss value"
      ],
      "metadata": {
        "id": "8fVGKGVLRy9V"
      }
    },
    {
      "cell_type": "code",
      "source": [
        "#PROBLEM4: Minimizing Loss\n",
        "\n",
        "def minimize_loss(prices):\n",
        "    n = len(prices)\n",
        "    min_loss = float('inf')\n",
        "    buy_year = sell_year = -1\n",
        "\n",
        "    for i in range(n):\n",
        "        for j in range(i + 1, n):\n",
        "            if prices[j] < prices[i]:\n",
        "                loss = prices[i] - prices[j]\n",
        "                if loss < min_loss:\n",
        "                    min_loss = loss\n",
        "                    buy_year = i + 1\n",
        "                    sell_year = j + 1\n",
        "\n",
        "    if buy_year == -1:\n",
        "        return \"No possible loss transaction found.\"\n",
        "\n",
        "    return f\"Buy in year {buy_year} at ₹{prices[buy_year - 1]}, \" \\\n",
        "           f\"Sell in year {sell_year} at ₹{prices[sell_year - 1]} → Loss: ₹{min_loss}\"\n",
        "\n",
        "\n",
        "num_years = int(input(\"Enter the number of years: \"))\n",
        "prices = []\n",
        "\n",
        "print(\"Enter the house prices for each year:\")\n",
        "for i in range(num_years):\n",
        "    price = int(input(f\"Price for year {i + 1}: \"))\n",
        "    prices.append(price)\n",
        "\n",
        "print(\"\\nResult:\")\n",
        "print(minimize_loss(prices))"
      ],
      "metadata": {
        "colab": {
          "base_uri": "https://localhost:8080/"
        },
        "id": "xqBHS6AdKfoz",
        "outputId": "0de09833-ed24-41ea-9bd4-bc91ec74f360"
      },
      "execution_count": 2,
      "outputs": [
        {
          "output_type": "stream",
          "name": "stdout",
          "text": [
            "Enter the number of years: 10\n",
            "Enter the house prices for each year:\n",
            "Price for year 1: 50\n",
            "Price for year 2: 100\n",
            "Price for year 3: 25\n",
            "Price for year 4: 40\n",
            "Price for year 5: 55\n",
            "Price for year 6: 98\n",
            "Price for year 7: 29\n",
            "Price for year 8: 10\n",
            "Price for year 9: 15\n",
            "Price for year 10: 18\n",
            "\n",
            "Result:\n",
            "Buy in year 2 at ₹100, Sell in year 6 at ₹98 → Loss: ₹2\n"
          ]
        }
      ]
    }
  ]
}